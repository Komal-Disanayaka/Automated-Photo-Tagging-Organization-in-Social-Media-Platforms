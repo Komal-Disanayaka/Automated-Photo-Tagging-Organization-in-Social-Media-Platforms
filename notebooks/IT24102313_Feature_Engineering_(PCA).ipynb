{
 "cells": [
  {
   "cell_type": "markdown",
   "id": "e9036d09-b4cc-46d3-93e5-97af94c0e406",
   "metadata": {},
   "source": [
    "# 05. IT24102313  – Feature Engineering (PCA)\n",
    "\n",
    "Technique: Applied PCA for dimensionality reduction.\n",
    "\n",
    "Problem: Each image = 2500 features → too high-dimensional, risk of overfitting.\n",
    "\n",
    "Solution: Reduced to ~100 components while keeping most variance.\n",
    "\n",
    "Why Needed:\n",
    "\n",
    "    Faster training.\n",
    "    Removes noise.\n",
    "    Avoids curse of dimensionality.\n",
    "\n",
    "Visualization: Scree plot (variance explained) or 2D scatter plot of first 2 components."
   ]
  },
  {
   "cell_type": "code",
   "execution_count": null,
   "id": "e3ca6f19-73f4-4955-9b0b-fac7c228da3b",
   "metadata": {},
   "outputs": [],
   "source": [
    "from sklearn.decomposition import PCA \n",
    "import matplotlib.pyplot as plt \n",
    "\n",
    "pca = PCA()\n",
    "pca.fit(data)\n",
    "\n",
    "# Variance explained plot\n",
    "plt.plot(np.cumsum(pca.explained_variance_ratio_))\n",
    "plt.xlabel(\"Number of Components\")\n",
    "plt.ylabel(\"Cumulative Explained Variance\")\n",
    "plt.title(\"PCA Variance Explained\")\n",
    "plt.show()"
   ]
  },
  {
   "cell_type": "code",
   "execution_count": null,
   "id": "aa924a4a",
   "metadata": {},
   "outputs": [],
   "source": [
    "pca = PCA(n_components=200,whiten = True , random_state = 42) \n",
    "data_pca = pca.fit_transform(data_scaled)\n",
    "print(data_pca.shape)"
   ]
  }
 ],
 "metadata": {
  "kernelspec": {
   "display_name": "Python 3 (ipykernel)",
   "language": "python",
   "name": "python3"
  },
  "language_info": {
   "codemirror_mode": {
    "name": "ipython",
    "version": 3
   },
   "file_extension": ".py",
   "mimetype": "text/x-python",
   "name": "python",
   "nbconvert_exporter": "python",
   "pygments_lexer": "ipython3",
   "version": "3.12.7"
  }
 },
 "nbformat": 4,
 "nbformat_minor": 5
}

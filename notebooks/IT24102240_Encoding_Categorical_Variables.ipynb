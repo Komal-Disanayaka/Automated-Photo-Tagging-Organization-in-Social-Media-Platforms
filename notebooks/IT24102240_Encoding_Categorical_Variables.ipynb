{
 "cells": [
  {
   "cell_type": "markdown",
   "id": "63e945a5-c4fe-474e-9be5-0a30ae8ca0e8",
   "metadata": {},
   "source": [
    "## 01. IT24102240 – Encoding Categorical Variables\n",
    "\n",
    "##### Technique: Converted text-based labels (e.g., \"image1\", \"image2\") into numeric labels using Label Encoding.\n",
    "\n",
    "##### Problem: ML models like SVM cannot handle text labels.\n",
    "\n",
    "##### Solution: Created a dictionary to map text → numbers.\n",
    "\n",
    "##### Why Needed: Converts human-readable labels into machine-readable values for supervised learning.\n",
    "\n",
    "##### Visualization: Bar chart showing class distribution."
   ]
  },
  {
   "cell_type": "code",
   "execution_count": null,
   "id": "58feeaa8-26fd-478c-a19b-1782972f5348",
   "metadata": {},
   "outputs": [],
   "source": [
    "import os \n",
    "import numpy as np \n",
    "\n",
    "data_path=r'IFW Train Data'\n",
    "\n",
    "labels=os.listdir(data_path)\n",
    "categories=np.arange(len(labels))\n",
    "category_dict=dict(zip(labels,categories))\n",
    "\n",
    "print(labels)\n",
    "print(categories)\n",
    "print(category_dict)"
   ]
  },
  {
   "cell_type": "code",
   "execution_count": null,
   "id": "b0abd7dd-7015-4cd5-b560-85f029f8722a",
   "metadata": {},
   "outputs": [],
   "source": [
    "import matplotlib.pyplot as plt\n",
    "import os\n",
    "\n",
    "image_counts = {}\n",
    "for label in labels:\n",
    "    category_path = os.path.join(data_path, label)\n",
    "    if os.path.isdir(category_path):\n",
    "        image_counts[label] = len([f for f in os.listdir(category_path) if os.path.isfile(os.path.join(category_path, f))])\n",
    "\n",
    "categories = list(image_counts.keys())\n",
    "counts = list(image_counts.values())\n",
    "\n",
    "# Create the bar chart\n",
    "plt.figure(figsize=(10, 6))\n",
    "plt.bar(categories, counts)\n",
    "plt.xlabel(\"Category\")\n",
    "plt.ylabel(\"Number of Images\")\n",
    "plt.title(\"Number of Images per Category\")\n",
    "plt.xticks(rotation=45, ha='right')\n",
    "plt.tight_layout()\n",
    "plt.show()"
   ]
  }
 ],
 "metadata": {
  "kernelspec": {
   "display_name": "Python 3 (ipykernel)",
   "language": "python",
   "name": "python3"
  },
  "language_info": {
   "codemirror_mode": {
    "name": "ipython",
    "version": 3
   },
   "file_extension": ".py",
   "mimetype": "text/x-python",
   "name": "python",
   "nbconvert_exporter": "python",
   "pygments_lexer": "ipython3",
   "version": "3.12.7"
  }
 },
 "nbformat": 4,
 "nbformat_minor": 5
}

{
 "cells": [
  {
   "cell_type": "markdown",
   "id": "7051d15f-411e-4662-beae-bca9f0fd2120",
   "metadata": {},
   "source": [
    "# 04. IT24102267 – StandardScaler / Scaling\n",
    "\n",
    "Technique: StandardScaler (mean = 0, std = 1).\n",
    "\n",
    "Problem: Pixel values (0–255) can dominate and affect SVM/PCA.\n",
    "\n",
    "Solution: Applied StandardScaler to normalize all features.\n",
    "\n",
    "Why Needed: Ensures equal feature contribution, avoids bias from large values, improves model convergence.\n",
    "\n",
    "Visualization: Histogram of pixel intensities before vs after scaling."
   ]
  },
  {
   "cell_type": "code",
   "execution_count": null,
   "id": "2b3e8ffd-aff8-49af-a247-1c71ffc56c04",
   "metadata": {},
   "outputs": [],
   "source": [
    "\n",
    "from sklearn.preprocessing import StandardScaler\n",
    "\n",
    "scaler = StandardScaler()\n",
    "data_scaled = scaler.fit_transform(data)\n",
    "\n",
    "# Histogram before vs after scaling\n",
    "plt.hist(data[0], bins=30, alpha=0.5, label=\"Before scaling\")\n",
    "plt.hist(data_scaled[0], bins=30, alpha=0.5, label=\"After scaling\")\n",
    "plt.legend()\n",
    "plt.title(\"Pixel Intensity Distribution\")\n",
    "plt.show()"
   ]
  }
 ],
 "metadata": {
  "kernelspec": {
   "display_name": "Python 3 (ipykernel)",
   "language": "python",
   "name": "python3"
  },
  "language_info": {
   "codemirror_mode": {
    "name": "ipython",
    "version": 3
   },
   "file_extension": ".py",
   "mimetype": "text/x-python",
   "name": "python",
   "nbconvert_exporter": "python",
   "pygments_lexer": "ipython3",
   "version": "3.12.7"
  }
 },
 "nbformat": 4,
 "nbformat_minor": 5
}

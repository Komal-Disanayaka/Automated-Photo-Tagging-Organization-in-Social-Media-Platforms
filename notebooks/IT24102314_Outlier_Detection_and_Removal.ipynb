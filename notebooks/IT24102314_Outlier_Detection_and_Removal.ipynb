{
 "cells": [
  {
   "cell_type": "markdown",
   "id": "f2e49fe7-c247-4576-8539-ae9a0e176982",
   "metadata": {},
   "source": [
    "# 03. IT24102314 – Outlier Detection / Removal\n",
    "\n",
    "Technique: Identified unusual images using brightness/variance.\n",
    "\n",
    "Problem: Some cropped faces were too dark, bright, or partially detected.\n",
    "\n",
    "Solution:\n",
    "\n",
    "    Compute mean brightness & variance per image.\n",
    "    Use boxplots to detect/remove outliers.\n",
    "\n",
    "Why Needed: Outliers confuse the model → removing them improves accuracy.\n",
    "\n",
    "Visualization: Boxplot of pixel intensity; outliers appear outside whiskers."
   ]
  },
  {
   "cell_type": "code",
   "execution_count": null,
   "id": "d5a9a219-aca1-4232-8c35-7c7349f2319a",
   "metadata": {},
   "outputs": [],
   "source": [
    "mean_intensity = np.mean(data, axis=1)\n",
    "plt.boxplot(mean_intensity)\n",
    "plt.title(\"Outlier Detection by Mean Pixel Intensity\")\n",
    "plt.show()"
   ]
  },
  {
   "cell_type": "code",
   "execution_count": null,
   "id": "70d96d4c-de4b-4403-84b3-4782fcb27850",
   "metadata": {},
   "outputs": [],
   "source": [
    "\n",
    "mask = (mean_intensity > mean_intensity.mean() - 1.5*mean_intensity.std()) & \\\n",
    "       (mean_intensity < mean_intensity.mean() + 1.5*mean_intensity.std())\n",
    "data = data[mask]\n",
    "target = target[mask]\n",
    "\n",
    "print(\"After outlier removal:\", data.shape)"
   ]
  },
  {
   "cell_type": "code",
   "execution_count": null,
   "id": "ea7bea28-6a67-46fa-b733-8e2cbc9e2618",
   "metadata": {},
   "outputs": [],
   "source": []
  }
 ],
 "metadata": {
  "kernelspec": {
   "display_name": "Python 3 (ipykernel)",
   "language": "python",
   "name": "python3"
  },
  "language_info": {
   "codemirror_mode": {
    "name": "ipython",
    "version": 3
   },
   "file_extension": ".py",
   "mimetype": "text/x-python",
   "name": "python",
   "nbconvert_exporter": "python",
   "pygments_lexer": "ipython3",
   "version": "3.12.7"
  }
 },
 "nbformat": 4,
 "nbformat_minor": 5
}

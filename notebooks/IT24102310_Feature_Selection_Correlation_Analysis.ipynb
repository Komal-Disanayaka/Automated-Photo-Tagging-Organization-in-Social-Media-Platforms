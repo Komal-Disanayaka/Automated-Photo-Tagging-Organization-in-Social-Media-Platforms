{
 "cells": [
  {
   "cell_type": "markdown",
   "id": "9e2b9701-ecb5-4f8e-92d3-6c24acfb77aa",
   "metadata": {},
   "source": [
    "# 06. IT24102310 – Feature Selection / Correlation Analysis\n",
    "\n",
    "Technique: Removed uninformative/redundant features.\n",
    "\n",
    "Problem: Many pixel features (e.g., background) had little/no variance.\n",
    "\n",
    "Solution:\n",
    "\n",
    "    Removed low-variance + highly correlated features.\n",
    "\n",
    "Why Needed: Prevents overfitting, improves training efficiency.\n",
    "\n",
    "Visualization: Variance distribution plot before vs after selection.\n",
    "\n",
    "please give the solushion dont use code\n"
   ]
  },
  {
   "cell_type": "code",
   "execution_count": null,
   "id": "2f15613e-d51e-4a3f-9ea3-e19e1196b14b",
   "metadata": {},
   "outputs": [],
   "source": [
    "from sklearn.feature_selection import VarianceThreshold \n",
    "\n",
    "selector = VarianceThreshold(threshold=0.01) \n",
    "data_selected = selector.fit_transform(data_pca)\n",
    "print(\"After Feature Selection:\", data_selected.shape)"
   ]
  },
  {
   "cell_type": "code",
   "execution_count": null,
   "id": "a974f5eb-14d5-44c5-a734-4a2912f423e0",
   "metadata": {},
   "outputs": [],
   "source": [
    "\n",
    "variances = np.var(data_pca, axis=0) \n",
    "\n",
    "plt.figure(figsize=(10, 6))\n",
    "plt.hist(variances, bins=50)\n",
    "plt.axvline(x=selector.threshold, color='r', linestyle='dashed', linewidth=2, label=f'Threshold ({selector.threshold})')\n",
    "plt.xlabel(\"Feature Variance\")\n",
    "plt.ylabel(\"Frequency\")\n",
    "plt.title(\"Histogram of Feature Variances\")\n",
    "plt.legend()\n",
    "plt.show()\n"
   ]
  },
  {
   "cell_type": "code",
   "execution_count": null,
   "id": "57bf4d00-b3f1-4007-be09-e40ec6a4b884",
   "metadata": {},
   "outputs": [],
   "source": [
    "np.save(\"final_data.npy\", data_selected)\n",
    "np.save(\"final_target.npy\", target)\n",
    "\n",
    "print(\"Final data shape:\", data_selected.shape)\n",
    "print(\"Final target shape:\", target.shape)"
   ]
  }
 ],
 "metadata": {
  "kernelspec": {
   "display_name": "Python 3 (ipykernel)",
   "language": "python",
   "name": "python3"
  },
  "language_info": {
   "codemirror_mode": {
    "name": "ipython",
    "version": 3
   },
   "file_extension": ".py",
   "mimetype": "text/x-python",
   "name": "python",
   "nbconvert_exporter": "python",
   "pygments_lexer": "ipython3",
   "version": "3.12.7"
  }
 },
 "nbformat": 4,
 "nbformat_minor": 5
}
